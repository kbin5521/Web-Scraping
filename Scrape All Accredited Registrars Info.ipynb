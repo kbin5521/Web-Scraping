{
 "cells": [
  {
   "cell_type": "code",
   "execution_count": null,
   "metadata": {},
   "outputs": [],
   "source": [
    "from bs4 import BeautifulSoup as soup\n",
    "import requests\n",
    "import numpy as np\n",
    "import pandas as pd\n",
    "import mysql.connector\n",
    "import webbrowser  # webbrowser.open() can open websites\n",
    "from bs4 import BeautifulSoup as soup\n",
    "import webbrowser"
   ]
  },
  {
   "cell_type": "code",
   "execution_count": null,
   "metadata": {},
   "outputs": [],
   "source": [
    "# assign the link to url\n",
    "url = 'https://www.icann.org/registrar-reports/accreditation-qualified-list.html'\n",
    "# request connections to the url\n",
    "response = requests.get(url)\n",
    "# check if the connection is successful\n",
    "response.status_code"
   ]
  },
  {
   "cell_type": "code",
   "execution_count": null,
   "metadata": {},
   "outputs": [],
   "source": [
    "# store data as text\n",
    "res_text = response.content"
   ]
  },
  {
   "cell_type": "code",
   "execution_count": null,
   "metadata": {},
   "outputs": [],
   "source": [
    "# change the data format through BeautifulSoup\n",
    "\n",
    "res = soup(res_text, 'lxml')"
   ]
  },
  {
   "cell_type": "code",
   "execution_count": null,
   "metadata": {},
   "outputs": [],
   "source": [
    "# get prettified html data\n",
    "# print(res.prettify())"
   ]
  },
  {
   "cell_type": "code",
   "execution_count": null,
   "metadata": {},
   "outputs": [],
   "source": [
    "# notice that all registrar names are stored in b tag\n",
    "all_b = res.find_all('b')\n",
    "\n",
    "all_b[1].text"
   ]
  },
  {
   "cell_type": "code",
   "execution_count": null,
   "metadata": {},
   "outputs": [],
   "source": [
    "# we get 2469 observations\n",
    "len(all_b)"
   ]
  },
  {
   "cell_type": "code",
   "execution_count": null,
   "metadata": {
    "scrolled": false
   },
   "outputs": [],
   "source": [
    "# Use .parent to get the whole tag and fiter out a tage, then we can get domain address of the corresponding registrar\n",
    "all_b[1].parent.a.text"
   ]
  },
  {
   "cell_type": "code",
   "execution_count": null,
   "metadata": {},
   "outputs": [],
   "source": [
    "# create a dictionary to store the data\n",
    "registrar_dict = {}\n",
    "for i in range(1, len(all_b)):\n",
    "    try:\n",
    "        registrar = all_b[i].text\n",
    "        registrar_site = all_b[i].parent.a.text\n",
    "        registrar_dict[registrar] = registrar_site\n",
    "    except AttributeError:\n",
    "        continue\n",
    "\n"
   ]
  },
  {
   "cell_type": "code",
   "execution_count": null,
   "metadata": {},
   "outputs": [],
   "source": [
    "# How many data we stored\n",
    "len(registrar_dict)"
   ]
  },
  {
   "cell_type": "markdown",
   "metadata": {},
   "source": [
    "#### Something is wrong. DEBUGGING"
   ]
  },
  {
   "cell_type": "code",
   "execution_count": null,
   "metadata": {},
   "outputs": [],
   "source": [
    "# check where went wrong, and print out the names of registrar we did not get\n",
    "a = []\n",
    "\n",
    "for  i in range(1,len(all_b)):\n",
    "    te = all_b[i].text\n",
    "    a.append(te)\n",
    "\n",
    "b = list(registrar_dict.keys())\n",
    "\n",
    "a[:3]\n",
    "\n",
    "b[:3]\n",
    "\n",
    "s1 = set(a)\n",
    "print('length of all scraped tags are :', len(s1))\n",
    "s2 = set(b)\n",
    "print('length of the dictionalry is :', len(s2))\n",
    "\n",
    "# differences between s1 and se\n",
    "differences = s1.symmetric_difference(s2)\n",
    "print(differences)"
   ]
  },
  {
   "cell_type": "code",
   "execution_count": null,
   "metadata": {},
   "outputs": [],
   "source": [
    "# check index of these registrars in the list\n",
    "index_num = []\n",
    "for i in differences:\n",
    "    index_num.append(a.index(i))\n",
    "    print( i,\":\",  a.index(i))"
   ]
  },
  {
   "cell_type": "code",
   "execution_count": null,
   "metadata": {
    "scrolled": true
   },
   "outputs": [],
   "source": [
    "# see parent data\n",
    "for i in index_num:\n",
    "    print(all_b[i].parent, \"\\n\")"
   ]
  },
  {
   "cell_type": "code",
   "execution_count": null,
   "metadata": {},
   "outputs": [],
   "source": [
    "# I will just add these registrars by hand, which seems easier\n",
    "registrar_dict['eName'] = 'http://www.ename.net'\n",
    "registrar_dict['gi.net'] = 'www.gi.net'\n",
    "registrar_dict['Global Internet'] = 'www.gi.net'\n",
    "registrar_dict['NetraCorp LLC'] = None"
   ]
  },
  {
   "cell_type": "code",
   "execution_count": null,
   "metadata": {},
   "outputs": [],
   "source": [
    "# At the end, we get 2466 ICANN accredited registrars'name and website\n",
    "len(registrar_dict.keys())"
   ]
  },
  {
   "cell_type": "markdown",
   "metadata": {},
   "source": [
    "## Next step, I would like to store these data into EXCEL file and MySQL database"
   ]
  },
  {
   "cell_type": "code",
   "execution_count": null,
   "metadata": {},
   "outputs": [],
   "source": [
    "import openpyxl\n",
    "import os"
   ]
  },
  {
   "cell_type": "code",
   "execution_count": null,
   "metadata": {},
   "outputs": [],
   "source": [
    "if 'registrar.xlsx' in os.listdir():\n",
    "    print('y')"
   ]
  },
  {
   "cell_type": "code",
   "execution_count": null,
   "metadata": {},
   "outputs": [],
   "source": [
    "# Create a workbook\n",
    "# wb = openpyxl.Workbook()\n",
    "\n",
    "# ws = wb.active\n",
    "# ws.title = 'Registrar InFO'"
   ]
  },
  {
   "cell_type": "code",
   "execution_count": null,
   "metadata": {},
   "outputs": [],
   "source": [
    "wb = openpyxl.load_workbook('registrar.xlsx')\n",
    "wb.write_only\n",
    "ws = wb[wb.sheetnames[0]]"
   ]
  },
  {
   "cell_type": "code",
   "execution_count": null,
   "metadata": {},
   "outputs": [],
   "source": [
    "wb_test = openpyxl.Workbook(write_only=True)\n",
    "ws1 = wb_test.create_sheet()\n",
    "ws1.append()"
   ]
  },
  {
   "cell_type": "code",
   "execution_count": null,
   "metadata": {},
   "outputs": [],
   "source": [
    "# define a fuction to write data into workbook\n",
    "def write_data(dic):\n",
    "    for i in range(2, 20):\n",
    "        \n",
    "        ws.cell(row = i, column = 1).value = list(dic.keys())[i-2]\n",
    "        ws.cell(row = i, column = 2).value = list(dic.values())[i-2]\n",
    "%time write_data(registrar_dict)\n",
    "\n"
   ]
  },
  {
   "cell_type": "code",
   "execution_count": null,
   "metadata": {},
   "outputs": [],
   "source": [
    "wb.save('registrar.xlsx')"
   ]
  },
  {
   "cell_type": "code",
   "execution_count": null,
   "metadata": {},
   "outputs": [],
   "source": [
    "wb2 = openpyxl.load_workbook('registrar.xlsx')"
   ]
  },
  {
   "cell_type": "code",
   "execution_count": null,
   "metadata": {},
   "outputs": [],
   "source": [
    "wb2.sheetnames"
   ]
  },
  {
   "cell_type": "code",
   "execution_count": null,
   "metadata": {},
   "outputs": [],
   "source": [
    "sheet = wb2[wb2.sheetnames[0]]"
   ]
  },
  {
   "cell_type": "code",
   "execution_count": null,
   "metadata": {},
   "outputs": [],
   "source": [
    "for i in range(2,20):\n",
    "    print(sheet.cell(row=i, column=1).value)"
   ]
  },
  {
   "cell_type": "markdown",
   "metadata": {},
   "source": [
    "#### We can see we have successfully write data into excel file"
   ]
  },
  {
   "cell_type": "markdown",
   "metadata": {},
   "source": [
    "## Insert data into MySQL database"
   ]
  },
  {
   "cell_type": "markdown",
   "metadata": {},
   "source": [
    "Instead of write the data we queried, we are going to write the csv file to MySQL database since it has more information"
   ]
  },
  {
   "cell_type": "code",
   "execution_count": null,
   "metadata": {},
   "outputs": [],
   "source": [
    "import mysql.connector\n",
    "import pandas as pd"
   ]
  },
  {
   "cell_type": "code",
   "execution_count": null,
   "metadata": {},
   "outputs": [],
   "source": [
    "# create a connection\n",
    "mydb = mysql.connector.connect(\n",
    "    host = '127.0.0.1',\n",
    "    user = 'root',\n",
    "    password = \"Mysql!123\",\n",
    "    database = 'testdb'\n",
    ")\n",
    "print(mydb)"
   ]
  },
  {
   "cell_type": "code",
   "execution_count": null,
   "metadata": {},
   "outputs": [],
   "source": [
    "mycursor = mydb.cursor()"
   ]
  },
  {
   "cell_type": "code",
   "execution_count": null,
   "metadata": {},
   "outputs": [],
   "source": [
    "mycursor.execute('')"
   ]
  },
  {
   "cell_type": "markdown",
   "metadata": {},
   "source": [
    "# ...Work in Progress..."
   ]
  },
  {
   "cell_type": "code",
   "execution_count": null,
   "metadata": {},
   "outputs": [],
   "source": []
  }
 ],
 "metadata": {
  "kernelspec": {
   "display_name": "Python 3",
   "language": "python",
   "name": "python3"
  },
  "language_info": {
   "codemirror_mode": {
    "name": "ipython",
    "version": 3
   },
   "file_extension": ".py",
   "mimetype": "text/x-python",
   "name": "python",
   "nbconvert_exporter": "python",
   "pygments_lexer": "ipython3",
   "version": "3.6.5"
  }
 },
 "nbformat": 4,
 "nbformat_minor": 2
}
